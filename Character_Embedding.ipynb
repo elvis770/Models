{
 "cells": [
  {
   "cell_type": "code",
   "execution_count": 15,
   "metadata": {},
   "outputs": [
    {
     "data": {
      "text/html": [
       "<div>\n",
       "<style scoped>\n",
       "    .dataframe tbody tr th:only-of-type {\n",
       "        vertical-align: middle;\n",
       "    }\n",
       "\n",
       "    .dataframe tbody tr th {\n",
       "        vertical-align: top;\n",
       "    }\n",
       "\n",
       "    .dataframe thead th {\n",
       "        text-align: right;\n",
       "    }\n",
       "</style>\n",
       "<table border=\"1\" class=\"dataframe\">\n",
       "  <thead>\n",
       "    <tr style=\"text-align: right;\">\n",
       "      <th></th>\n",
       "      <th>text</th>\n",
       "      <th>language</th>\n",
       "    </tr>\n",
       "  </thead>\n",
       "  <tbody>\n",
       "    <tr>\n",
       "      <th>0</th>\n",
       "      <td>ich denke es handelt sich hier um ein missvers...</td>\n",
       "      <td>german</td>\n",
       "    </tr>\n",
       "    <tr>\n",
       "      <th>1</th>\n",
       "      <td>ich habe tom gerade erst verlassen</td>\n",
       "      <td>german</td>\n",
       "    </tr>\n",
       "    <tr>\n",
       "      <th>2</th>\n",
       "      <td>tom versuchte mary nur zu ärgern</td>\n",
       "      <td>german</td>\n",
       "    </tr>\n",
       "    <tr>\n",
       "      <th>3</th>\n",
       "      <td>tom hat mir die hand geküsst</td>\n",
       "      <td>german</td>\n",
       "    </tr>\n",
       "    <tr>\n",
       "      <th>4</th>\n",
       "      <td>ich wusste dass dir das gefiele</td>\n",
       "      <td>german</td>\n",
       "    </tr>\n",
       "    <tr>\n",
       "      <th>5</th>\n",
       "      <td>gehen sie mir aus dem weg</td>\n",
       "      <td>german</td>\n",
       "    </tr>\n",
       "    <tr>\n",
       "      <th>6</th>\n",
       "      <td>zieht eure schlafanzüge an</td>\n",
       "      <td>german</td>\n",
       "    </tr>\n",
       "    <tr>\n",
       "      <th>7</th>\n",
       "      <td>als kind war ich süchtig nach kriminalromanen</td>\n",
       "      <td>german</td>\n",
       "    </tr>\n",
       "    <tr>\n",
       "      <th>8</th>\n",
       "      <td>ich habe das auto mit zehn prozent rabatt gekauft</td>\n",
       "      <td>german</td>\n",
       "    </tr>\n",
       "    <tr>\n",
       "      <th>9</th>\n",
       "      <td>niemand anders könnte meine arbeit machen</td>\n",
       "      <td>german</td>\n",
       "    </tr>\n",
       "    <tr>\n",
       "      <th>10</th>\n",
       "      <td>du bist ein gefangener</td>\n",
       "      <td>german</td>\n",
       "    </tr>\n",
       "    <tr>\n",
       "      <th>11</th>\n",
       "      <td>ich gebe dir was du willst</td>\n",
       "      <td>german</td>\n",
       "    </tr>\n",
       "    <tr>\n",
       "      <th>12</th>\n",
       "      <td>ich will jetzt nicht weg</td>\n",
       "      <td>german</td>\n",
       "    </tr>\n",
       "    <tr>\n",
       "      <th>13</th>\n",
       "      <td>ich habe ihr mein zimmer gezeigt</td>\n",
       "      <td>german</td>\n",
       "    </tr>\n",
       "    <tr>\n",
       "      <th>14</th>\n",
       "      <td>ich wüsste nicht weshalb ich mich entschuldige...</td>\n",
       "      <td>german</td>\n",
       "    </tr>\n",
       "    <tr>\n",
       "      <th>15</th>\n",
       "      <td>es war kein schöner anblick</td>\n",
       "      <td>german</td>\n",
       "    </tr>\n",
       "    <tr>\n",
       "      <th>16</th>\n",
       "      <td>was habt ihr denn die ganze zeit gemacht</td>\n",
       "      <td>german</td>\n",
       "    </tr>\n",
       "    <tr>\n",
       "      <th>17</th>\n",
       "      <td>das kind da sieht wie tom aus</td>\n",
       "      <td>german</td>\n",
       "    </tr>\n",
       "    <tr>\n",
       "      <th>18</th>\n",
       "      <td>tom wird sich freuen dich wiederzusehen</td>\n",
       "      <td>german</td>\n",
       "    </tr>\n",
       "    <tr>\n",
       "      <th>19</th>\n",
       "      <td>ich denke nicht dass sie ihrer mutter ähnlich ...</td>\n",
       "      <td>german</td>\n",
       "    </tr>\n",
       "  </tbody>\n",
       "</table>\n",
       "</div>"
      ],
      "text/plain": [
       "                                                 text language\n",
       "0   ich denke es handelt sich hier um ein missvers...   german\n",
       "1                  ich habe tom gerade erst verlassen   german\n",
       "2                    tom versuchte mary nur zu ärgern   german\n",
       "3                        tom hat mir die hand geküsst   german\n",
       "4                     ich wusste dass dir das gefiele   german\n",
       "5                           gehen sie mir aus dem weg   german\n",
       "6                          zieht eure schlafanzüge an   german\n",
       "7       als kind war ich süchtig nach kriminalromanen   german\n",
       "8   ich habe das auto mit zehn prozent rabatt gekauft   german\n",
       "9           niemand anders könnte meine arbeit machen   german\n",
       "10                             du bist ein gefangener   german\n",
       "11                         ich gebe dir was du willst   german\n",
       "12                           ich will jetzt nicht weg   german\n",
       "13                   ich habe ihr mein zimmer gezeigt   german\n",
       "14  ich wüsste nicht weshalb ich mich entschuldige...   german\n",
       "15                        es war kein schöner anblick   german\n",
       "16           was habt ihr denn die ganze zeit gemacht   german\n",
       "17                      das kind da sieht wie tom aus   german\n",
       "18            tom wird sich freuen dich wiederzusehen   german\n",
       "19  ich denke nicht dass sie ihrer mutter ähnlich ...   german"
      ]
     },
     "execution_count": 15,
     "metadata": {},
     "output_type": "execute_result"
    }
   ],
   "source": [
    "import numpy as np\n",
    "import pandas as pd \n",
    "\n",
    "# Import the data\n",
    "df = pd.read_csv('/Users/elvisechefu/Desktop/language detection/languages.csv')\n",
    "df.head(20)\n"
   ]
  },
  {
   "cell_type": "code",
   "execution_count": 16,
   "metadata": {},
   "outputs": [],
   "source": [
    "labels = df['language'].values\n"
   ]
  },
  {
   "cell_type": "code",
   "execution_count": 17,
   "metadata": {},
   "outputs": [
    {
     "name": "stdout",
     "output_type": "stream",
     "text": [
      "            text\n",
      "language        \n",
      "english   275687\n",
      "french    169693\n",
      "german    199618\n",
      "spanish   118686\n",
      "Total Length of dataset: 763684\n"
     ]
    }
   ],
   "source": [
    "# Get all unique languages values\n",
    "print(df.groupby('language').nunique())\n",
    "print(f\"Total Length of dataset: {len(df)}\")"
   ]
  },
  {
   "cell_type": "code",
   "execution_count": 18,
   "metadata": {},
   "outputs": [
    {
     "name": "stdout",
     "output_type": "stream",
     "text": [
      "text        0\n",
      "language    0\n",
      "dtype: int64\n"
     ]
    }
   ],
   "source": [
    "# Check for missing values\n",
    "print(df.isnull().sum())\n"
   ]
  },
  {
   "cell_type": "code",
   "execution_count": 19,
   "metadata": {},
   "outputs": [
    {
     "name": "stdout",
     "output_type": "stream",
     "text": [
      "<class 'pandas.core.frame.DataFrame'>\n",
      "RangeIndex: 763684 entries, 0 to 763683\n",
      "Data columns (total 2 columns):\n",
      " #   Column    Non-Null Count   Dtype \n",
      "---  ------    --------------   ----- \n",
      " 0   text      763684 non-null  object\n",
      " 1   language  763684 non-null  object\n",
      "dtypes: object(2)\n",
      "memory usage: 11.7+ MB\n",
      "None\n"
     ]
    }
   ],
   "source": [
    "# Explore the columns and their types\n",
    "print(df.info())"
   ]
  },
  {
   "cell_type": "code",
   "execution_count": 20,
   "metadata": {},
   "outputs": [
    {
     "data": {
      "text/html": [
       "<div>\n",
       "<style scoped>\n",
       "    .dataframe tbody tr th:only-of-type {\n",
       "        vertical-align: middle;\n",
       "    }\n",
       "\n",
       "    .dataframe tbody tr th {\n",
       "        vertical-align: top;\n",
       "    }\n",
       "\n",
       "    .dataframe thead th {\n",
       "        text-align: right;\n",
       "    }\n",
       "</style>\n",
       "<table border=\"1\" class=\"dataframe\">\n",
       "  <thead>\n",
       "    <tr style=\"text-align: right;\">\n",
       "      <th></th>\n",
       "      <th>text</th>\n",
       "      <th>lan_english</th>\n",
       "      <th>lan_french</th>\n",
       "      <th>lan_german</th>\n",
       "      <th>lan_spanish</th>\n",
       "    </tr>\n",
       "  </thead>\n",
       "  <tbody>\n",
       "    <tr>\n",
       "      <th>0</th>\n",
       "      <td>ich denke es handelt sich hier um ein missvers...</td>\n",
       "      <td>False</td>\n",
       "      <td>False</td>\n",
       "      <td>True</td>\n",
       "      <td>False</td>\n",
       "    </tr>\n",
       "    <tr>\n",
       "      <th>1</th>\n",
       "      <td>ich habe tom gerade erst verlassen</td>\n",
       "      <td>False</td>\n",
       "      <td>False</td>\n",
       "      <td>True</td>\n",
       "      <td>False</td>\n",
       "    </tr>\n",
       "    <tr>\n",
       "      <th>2</th>\n",
       "      <td>tom versuchte mary nur zu ärgern</td>\n",
       "      <td>False</td>\n",
       "      <td>False</td>\n",
       "      <td>True</td>\n",
       "      <td>False</td>\n",
       "    </tr>\n",
       "    <tr>\n",
       "      <th>3</th>\n",
       "      <td>tom hat mir die hand geküsst</td>\n",
       "      <td>False</td>\n",
       "      <td>False</td>\n",
       "      <td>True</td>\n",
       "      <td>False</td>\n",
       "    </tr>\n",
       "    <tr>\n",
       "      <th>4</th>\n",
       "      <td>ich wusste dass dir das gefiele</td>\n",
       "      <td>False</td>\n",
       "      <td>False</td>\n",
       "      <td>True</td>\n",
       "      <td>False</td>\n",
       "    </tr>\n",
       "  </tbody>\n",
       "</table>\n",
       "</div>"
      ],
      "text/plain": [
       "                                                text  lan_english  lan_french  \\\n",
       "0  ich denke es handelt sich hier um ein missvers...        False       False   \n",
       "1                 ich habe tom gerade erst verlassen        False       False   \n",
       "2                   tom versuchte mary nur zu ärgern        False       False   \n",
       "3                       tom hat mir die hand geküsst        False       False   \n",
       "4                    ich wusste dass dir das gefiele        False       False   \n",
       "\n",
       "   lan_german  lan_spanish  \n",
       "0        True        False  \n",
       "1        True        False  \n",
       "2        True        False  \n",
       "3        True        False  \n",
       "4        True        False  "
      ]
     },
     "execution_count": 20,
     "metadata": {},
     "output_type": "execute_result"
    }
   ],
   "source": [
    "def onehot_encode(df, columns, prefixes):\n",
    "    df = df.copy()\n",
    "    for column, prefix in zip (columns, prefixes):\n",
    "        dummies = pd.get_dummies(df[column], prefix=prefix)\n",
    "        df = pd.concat([df , dummies], axis=1)\n",
    "        df = df.drop(column, axis=1)\n",
    "    return df\n",
    "\n",
    "df = onehot_encode(\n",
    "    df,\n",
    "    columns=['language'],\n",
    "    prefixes=['lan']\n",
    ")\n",
    "df.head()"
   ]
  },
  {
   "cell_type": "code",
   "execution_count": 21,
   "metadata": {},
   "outputs": [
    {
     "data": {
      "image/png": "[encoded data removed]",
      "text/plain": [
       "<Figure size 1000x800 with 2 Axes>"
      ]
     },
     "metadata": {},
     "output_type": "display_data"
    }
   ],
   "source": [
    "#Represnting the data in a heta-map as a form of visualisation\n",
    "\n",
    "import seaborn as sns\n",
    "import matplotlib.pyplot as plt\n",
    "\n",
    "language_columns = [col for col in df.columns if col.startswith('lan_')]\n",
    "\n",
    "# Calculate the correlation matrix\n",
    "correlation_matrix = df[language_columns].corr()\n",
    "\n",
    "# Create the heatmap\n",
    "plt.figure(figsize=(10, 8))\n",
    "sns.heatmap(correlation_matrix, annot=True, cmap='coolwarm', fmt=\".2f\")\n",
    "plt.title('Correlation Heatmap of One-Hot Encoded Language Labels')\n",
    "plt.xlabel('Language')\n",
    "plt.ylabel('Language')\n",
    "plt.show()"
   ]
  },
  {
   "cell_type": "markdown",
   "metadata": {},
   "source": [
    "CHARATCER EMEDDING "
   ]
  },
  {
   "cell_type": "code",
   "execution_count": 22,
   "metadata": {},
   "outputs": [],
   "source": [
    "\n",
    "from tensorflow.keras.preprocessing.text import Tokenizer\n",
    "from tensorflow.keras.preprocessing.sequence import pad_sequences\n",
    "\n",
    "# Extract text data from the DataFrame\n",
    "sentences = df['text'].tolist()\n",
    "\n",
    "# Tokenize the characters in the text data\n",
    "tokenizer = Tokenizer(char_level=True)\n",
    "tokenizer.fit_on_texts(sentences)  \n",
    "sequences = tokenizer.texts_to_sequences(sentences)\n",
    "\n",
    "# Pad sequences to ensure uniform length.\n",
    "max_sequence_length = max(len(seq) for seq in sequences)\n",
    "sequences_padded = pad_sequences(sequences, maxlen=max_sequence_length)\n",
    "\n",
    "# Create character-level embeddings\n",
    "embedding_matrix = np.zeros((len(tokenizer.word_index) + 1, 100))  # can be adjusted if needed\n",
    "for char, char_index in tokenizer.word_index.items():\n",
    "    embedding_matrix[char_index] = np.random.uniform(-1, 1, 100)  # Random initialization of embeddings\n",
    "\n"
   ]
  },
  {
   "cell_type": "code",
   "execution_count": 23,
   "metadata": {},
   "outputs": [
    {
     "name": "stdout",
     "output_type": "stream",
     "text": [
      "          0         1         2         3         4         5         6   \\\n",
      "0   0.000000  0.000000  0.000000  0.000000  0.000000  0.000000  0.000000   \n",
      "1  -0.982341 -0.859462  0.504235  0.414519 -0.240864 -0.214350 -0.897346   \n",
      "2   0.900368 -0.728946  0.984196 -0.857883  0.221721  0.212839  0.092836   \n",
      "3  -0.669989 -0.419353  0.691756 -0.497698  0.194154  0.543525  0.316669   \n",
      "4  -0.348944  0.764309 -0.591622  0.604863 -0.139387  0.688212 -0.499051   \n",
      "..       ...       ...       ...       ...       ...       ...       ...   \n",
      "73 -0.884745  0.396918 -0.151924 -0.099039 -0.036282  0.160700 -0.751472   \n",
      "74 -0.913907 -0.709134 -0.942040 -0.693746 -0.385041  0.668972  0.810395   \n",
      "75  0.642229  0.687212  0.616115  0.955006  0.372200 -0.444865  0.228684   \n",
      "76 -0.471568  0.221242  0.579446 -0.658946  0.794423  0.893240  0.103131   \n",
      "77 -0.377061 -0.513237  0.864449 -0.114929 -0.317399  0.829008 -0.230809   \n",
      "\n",
      "          7         8         9   ...        90        91        92        93  \\\n",
      "0   0.000000  0.000000  0.000000  ...  0.000000  0.000000  0.000000  0.000000   \n",
      "1   0.111800  0.366730  0.699596  ... -0.636143 -0.761942 -0.060714 -0.954078   \n",
      "2  -0.486805  0.588518 -0.932582  ... -0.945276 -0.034030 -0.076515 -0.488223   \n",
      "3   0.988173 -0.833260  0.482981  ...  0.099069 -0.466968  0.378615 -0.443519   \n",
      "4  -0.186245  0.673011  0.878148  ...  0.850788  0.755135  0.534149  0.309713   \n",
      "..       ...       ...       ...  ...       ...       ...       ...       ...   \n",
      "73  0.540453 -0.131574 -0.737015  ...  0.483532 -0.632385 -0.418167 -0.068427   \n",
      "74 -0.851616  0.491942  0.398466  ...  0.060861 -0.606590  0.449381  0.758760   \n",
      "75 -0.102692 -0.288049 -0.288874  ...  0.039366 -0.197214 -0.688671  0.591086   \n",
      "76 -0.216895  0.956590  0.436730  ...  0.313444  0.256122  0.629706  0.196915   \n",
      "77  0.892698 -0.190125 -0.802816  ...  0.943408  0.370689  0.103306 -0.200641   \n",
      "\n",
      "          94        95        96        97        98        99  \n",
      "0   0.000000  0.000000  0.000000  0.000000  0.000000  0.000000  \n",
      "1   0.921893  0.922292  0.852206 -0.792132 -0.897627  0.754262  \n",
      "2   0.881310 -0.180248 -0.665509  0.008121 -0.138834 -0.068883  \n",
      "3  -0.164173  0.970652  0.314955 -0.774427 -0.080493  0.825793  \n",
      "4  -0.396890 -0.354519 -0.020802 -0.217759  0.081699 -0.445280  \n",
      "..       ...       ...       ...       ...       ...       ...  \n",
      "73 -0.722061 -0.900631  0.395220 -0.470738  0.281426  0.812074  \n",
      "74  0.585172  0.390597 -0.642574 -0.190545  0.556604  0.738339  \n",
      "75  0.158433  0.611071  0.673447  0.577601 -0.971832 -0.127908  \n",
      "76 -0.311868 -0.783220 -0.350579 -0.457707  0.200661 -0.064241  \n",
      "77  0.955733  0.220795  0.839301  0.402821  0.536074  0.688304  \n",
      "\n",
      "[78 rows x 100 columns]\n"
     ]
    }
   ],
   "source": [
    "# Convert embedding matrix to DataFrame\n",
    "embedding_df = pd.DataFrame(embedding_matrix)\n",
    "\n",
    "# Display the DataFrame\n",
    "print(embedding_df)"
   ]
  },
  {
   "cell_type": "markdown",
   "metadata": {},
   "source": [
    "SPLITING THE DATASET INTO TRAIN, VALIDATE AND TEST SETS "
   ]
  },
  {
   "cell_type": "code",
   "execution_count": 24,
   "metadata": {},
   "outputs": [],
   "source": [
    "from sklearn.model_selection import train_test_split\n",
    "\n",
    "# Split the data into train and test sets (80% train, 20% test)\n",
    "X_train, X_test, y_train, y_test = train_test_split(sequences_padded, labels, test_size=0.2, random_state=42)\n",
    "\n",
    "# Further split the training data into train and validation sets (75% train, 25% validation)\n",
    "X_train, X_val, y_train, y_val = train_test_split(X_train, y_train, test_size=0.25, random_state=42)\n",
    "\n",
    "# X_train, y_train: Training data and labels (60% of the original data)\n",
    "# X_val, y_val: Validation data and labels (20% of the original data)\n",
    "# X_test, y_test: Test data and labels (20% of the original data)"
   ]
  },
  {
   "cell_type": "markdown",
   "metadata": {},
   "source": [
    "IMPORTING THE SVM MODEL"
   ]
  },
  {
   "cell_type": "code",
   "execution_count": 25,
   "metadata": {},
   "outputs": [],
   "source": [
    "from sklearn.svm import SVC\n",
    "from sklearn.metrics import accuracy_score\n",
    "\n",
    "# Initialize SVM Model\n",
    "svm_model = SVC(kernel='linear') "
   ]
  },
  {
   "cell_type": "markdown",
   "metadata": {},
   "source": [
    "TRAINING THE MODEL"
   ]
  },
  {
   "cell_type": "code",
   "execution_count": 26,
   "metadata": {},
   "outputs": [],
   "source": [
    "# Train the Model\n",
    "svm_model.fit(X_train, y_train)"
   ]
  },
  {
   "cell_type": "markdown",
   "metadata": {},
   "source": [
    "VAILIDATING THE MODEL"
   ]
  },
  {
   "cell_type": "code",
   "execution_count": null,
   "metadata": {},
   "outputs": [],
   "source": [
    "# Validate the Model\n",
    "y_val_pred = svm_model.predict(X_val)\n",
    "val_accuracy = accuracy_score(y_val, y_val_pred)\n",
    "print(\"Validation Accuracy:\", val_accuracy)"
   ]
  },
  {
   "cell_type": "code",
   "execution_count": null,
   "metadata": {},
   "outputs": [],
   "source": [
    "# Predict on the Test Set\n",
    "# y_test_pred = svm_model.predict(X_test)\n",
    "\n",
    "# Evaluate the Model\n",
    "# test_accuracy = accuracy_score(y_test, y_test_pred)\n",
    "# print(\"Test Accuracy:\", test_accuracy)"
   ]
  }
 ],
 "metadata": {
  "kernelspec": {
   "display_name": "Python 3",
   "language": "python",
   "name": "python3"
  },
  "language_info": {
   "codemirror_mode": {
    "name": "ipython",
    "version": 3
   },
   "file_extension": ".py",
   "mimetype": "text/x-python",
   "name": "python",
   "nbconvert_exporter": "python",
   "pygments_lexer": "ipython3",
   "version": "3.11.5"
  },
  "orig_nbformat": 4
 },
 "nbformat": 4,
 "nbformat_minor": 2
}
