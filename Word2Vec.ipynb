{
 "cells": [
  {
   "cell_type": "code",
   "execution_count": 1,
   "metadata": {},
   "outputs": [
    {
     "data": {
      "text/html": [
       "<div>\n",
       "<style scoped>\n",
       "    .dataframe tbody tr th:only-of-type {\n",
       "        vertical-align: middle;\n",
       "    }\n",
       "\n",
       "    .dataframe tbody tr th {\n",
       "        vertical-align: top;\n",
       "    }\n",
       "\n",
       "    .dataframe thead th {\n",
       "        text-align: right;\n",
       "    }\n",
       "</style>\n",
       "<table border=\"1\" class=\"dataframe\">\n",
       "  <thead>\n",
       "    <tr style=\"text-align: right;\">\n",
       "      <th></th>\n",
       "      <th>text</th>\n",
       "      <th>language</th>\n",
       "    </tr>\n",
       "  </thead>\n",
       "  <tbody>\n",
       "    <tr>\n",
       "      <th>0</th>\n",
       "      <td>ich denke es handelt sich hier um ein missvers...</td>\n",
       "      <td>german</td>\n",
       "    </tr>\n",
       "    <tr>\n",
       "      <th>1</th>\n",
       "      <td>ich habe tom gerade erst verlassen</td>\n",
       "      <td>german</td>\n",
       "    </tr>\n",
       "    <tr>\n",
       "      <th>2</th>\n",
       "      <td>tom versuchte mary nur zu ärgern</td>\n",
       "      <td>german</td>\n",
       "    </tr>\n",
       "    <tr>\n",
       "      <th>3</th>\n",
       "      <td>tom hat mir die hand geküsst</td>\n",
       "      <td>german</td>\n",
       "    </tr>\n",
       "    <tr>\n",
       "      <th>4</th>\n",
       "      <td>ich wusste dass dir das gefiele</td>\n",
       "      <td>german</td>\n",
       "    </tr>\n",
       "    <tr>\n",
       "      <th>5</th>\n",
       "      <td>gehen sie mir aus dem weg</td>\n",
       "      <td>german</td>\n",
       "    </tr>\n",
       "    <tr>\n",
       "      <th>6</th>\n",
       "      <td>zieht eure schlafanzüge an</td>\n",
       "      <td>german</td>\n",
       "    </tr>\n",
       "    <tr>\n",
       "      <th>7</th>\n",
       "      <td>als kind war ich süchtig nach kriminalromanen</td>\n",
       "      <td>german</td>\n",
       "    </tr>\n",
       "    <tr>\n",
       "      <th>8</th>\n",
       "      <td>ich habe das auto mit zehn prozent rabatt gekauft</td>\n",
       "      <td>german</td>\n",
       "    </tr>\n",
       "    <tr>\n",
       "      <th>9</th>\n",
       "      <td>niemand anders könnte meine arbeit machen</td>\n",
       "      <td>german</td>\n",
       "    </tr>\n",
       "    <tr>\n",
       "      <th>10</th>\n",
       "      <td>du bist ein gefangener</td>\n",
       "      <td>german</td>\n",
       "    </tr>\n",
       "    <tr>\n",
       "      <th>11</th>\n",
       "      <td>ich gebe dir was du willst</td>\n",
       "      <td>german</td>\n",
       "    </tr>\n",
       "    <tr>\n",
       "      <th>12</th>\n",
       "      <td>ich will jetzt nicht weg</td>\n",
       "      <td>german</td>\n",
       "    </tr>\n",
       "    <tr>\n",
       "      <th>13</th>\n",
       "      <td>ich habe ihr mein zimmer gezeigt</td>\n",
       "      <td>german</td>\n",
       "    </tr>\n",
       "    <tr>\n",
       "      <th>14</th>\n",
       "      <td>ich wüsste nicht weshalb ich mich entschuldige...</td>\n",
       "      <td>german</td>\n",
       "    </tr>\n",
       "    <tr>\n",
       "      <th>15</th>\n",
       "      <td>es war kein schöner anblick</td>\n",
       "      <td>german</td>\n",
       "    </tr>\n",
       "    <tr>\n",
       "      <th>16</th>\n",
       "      <td>was habt ihr denn die ganze zeit gemacht</td>\n",
       "      <td>german</td>\n",
       "    </tr>\n",
       "    <tr>\n",
       "      <th>17</th>\n",
       "      <td>das kind da sieht wie tom aus</td>\n",
       "      <td>german</td>\n",
       "    </tr>\n",
       "    <tr>\n",
       "      <th>18</th>\n",
       "      <td>tom wird sich freuen dich wiederzusehen</td>\n",
       "      <td>german</td>\n",
       "    </tr>\n",
       "    <tr>\n",
       "      <th>19</th>\n",
       "      <td>ich denke nicht dass sie ihrer mutter ähnlich ...</td>\n",
       "      <td>german</td>\n",
       "    </tr>\n",
       "  </tbody>\n",
       "</table>\n",
       "</div>"
      ],
      "text/plain": [
       "                                                 text language\n",
       "0   ich denke es handelt sich hier um ein missvers...   german\n",
       "1                  ich habe tom gerade erst verlassen   german\n",
       "2                    tom versuchte mary nur zu ärgern   german\n",
       "3                        tom hat mir die hand geküsst   german\n",
       "4                     ich wusste dass dir das gefiele   german\n",
       "5                           gehen sie mir aus dem weg   german\n",
       "6                          zieht eure schlafanzüge an   german\n",
       "7       als kind war ich süchtig nach kriminalromanen   german\n",
       "8   ich habe das auto mit zehn prozent rabatt gekauft   german\n",
       "9           niemand anders könnte meine arbeit machen   german\n",
       "10                             du bist ein gefangener   german\n",
       "11                         ich gebe dir was du willst   german\n",
       "12                           ich will jetzt nicht weg   german\n",
       "13                   ich habe ihr mein zimmer gezeigt   german\n",
       "14  ich wüsste nicht weshalb ich mich entschuldige...   german\n",
       "15                        es war kein schöner anblick   german\n",
       "16           was habt ihr denn die ganze zeit gemacht   german\n",
       "17                      das kind da sieht wie tom aus   german\n",
       "18            tom wird sich freuen dich wiederzusehen   german\n",
       "19  ich denke nicht dass sie ihrer mutter ähnlich ...   german"
      ]
     },
     "execution_count": 1,
     "metadata": {},
     "output_type": "execute_result"
    }
   ],
   "source": [
    "import numpy as np\n",
    "import pandas as pd \n",
    "import tensorflow as tf\n",
    "\n",
    "# Import the data\n",
    "df = pd.read_csv('/Users/elvisechefu/Desktop/language detection/languages.csv')\n",
    "df.head(20)\n"
   ]
  },
  {
   "cell_type": "code",
   "execution_count": 2,
   "metadata": {},
   "outputs": [],
   "source": [
    "labels = df['language'].values"
   ]
  },
  {
   "cell_type": "code",
   "execution_count": 3,
   "metadata": {},
   "outputs": [
    {
     "name": "stdout",
     "output_type": "stream",
     "text": [
      "            text\n",
      "language        \n",
      "english   275687\n",
      "french    169693\n",
      "german    199618\n",
      "spanish   118686\n",
      "Total Length of dataset: 763684\n"
     ]
    }
   ],
   "source": [
    "# Get all unique languages values\n",
    "print(df.groupby('language').nunique())\n",
    "print(f\"Total Length of dataset: {len(df)}\")"
   ]
  },
  {
   "cell_type": "code",
   "execution_count": 4,
   "metadata": {},
   "outputs": [
    {
     "name": "stdout",
     "output_type": "stream",
     "text": [
      "text        0\n",
      "language    0\n",
      "dtype: int64\n"
     ]
    }
   ],
   "source": [
    "# Check for missing values\n",
    "print(df.isnull().sum())"
   ]
  },
  {
   "cell_type": "code",
   "execution_count": 5,
   "metadata": {},
   "outputs": [
    {
     "name": "stdout",
     "output_type": "stream",
     "text": [
      "<class 'pandas.core.frame.DataFrame'>\n",
      "RangeIndex: 763684 entries, 0 to 763683\n",
      "Data columns (total 2 columns):\n",
      " #   Column    Non-Null Count   Dtype \n",
      "---  ------    --------------   ----- \n",
      " 0   text      763684 non-null  object\n",
      " 1   language  763684 non-null  object\n",
      "dtypes: object(2)\n",
      "memory usage: 11.7+ MB\n",
      "None\n"
     ]
    }
   ],
   "source": [
    "# Explore the columns and their types\n",
    "print(df.info())"
   ]
  },
  {
   "cell_type": "code",
   "execution_count": 6,
   "metadata": {},
   "outputs": [
    {
     "data": {
      "text/html": [
       "<div>\n",
       "<style scoped>\n",
       "    .dataframe tbody tr th:only-of-type {\n",
       "        vertical-align: middle;\n",
       "    }\n",
       "\n",
       "    .dataframe tbody tr th {\n",
       "        vertical-align: top;\n",
       "    }\n",
       "\n",
       "    .dataframe thead th {\n",
       "        text-align: right;\n",
       "    }\n",
       "</style>\n",
       "<table border=\"1\" class=\"dataframe\">\n",
       "  <thead>\n",
       "    <tr style=\"text-align: right;\">\n",
       "      <th></th>\n",
       "      <th>text</th>\n",
       "      <th>lan_english</th>\n",
       "      <th>lan_french</th>\n",
       "      <th>lan_german</th>\n",
       "      <th>lan_spanish</th>\n",
       "    </tr>\n",
       "  </thead>\n",
       "  <tbody>\n",
       "    <tr>\n",
       "      <th>0</th>\n",
       "      <td>ich denke es handelt sich hier um ein missvers...</td>\n",
       "      <td>False</td>\n",
       "      <td>False</td>\n",
       "      <td>True</td>\n",
       "      <td>False</td>\n",
       "    </tr>\n",
       "    <tr>\n",
       "      <th>1</th>\n",
       "      <td>ich habe tom gerade erst verlassen</td>\n",
       "      <td>False</td>\n",
       "      <td>False</td>\n",
       "      <td>True</td>\n",
       "      <td>False</td>\n",
       "    </tr>\n",
       "    <tr>\n",
       "      <th>2</th>\n",
       "      <td>tom versuchte mary nur zu ärgern</td>\n",
       "      <td>False</td>\n",
       "      <td>False</td>\n",
       "      <td>True</td>\n",
       "      <td>False</td>\n",
       "    </tr>\n",
       "    <tr>\n",
       "      <th>3</th>\n",
       "      <td>tom hat mir die hand geküsst</td>\n",
       "      <td>False</td>\n",
       "      <td>False</td>\n",
       "      <td>True</td>\n",
       "      <td>False</td>\n",
       "    </tr>\n",
       "    <tr>\n",
       "      <th>4</th>\n",
       "      <td>ich wusste dass dir das gefiele</td>\n",
       "      <td>False</td>\n",
       "      <td>False</td>\n",
       "      <td>True</td>\n",
       "      <td>False</td>\n",
       "    </tr>\n",
       "  </tbody>\n",
       "</table>\n",
       "</div>"
      ],
      "text/plain": [
       "                                                text  lan_english  lan_french  \\\n",
       "0  ich denke es handelt sich hier um ein missvers...        False       False   \n",
       "1                 ich habe tom gerade erst verlassen        False       False   \n",
       "2                   tom versuchte mary nur zu ärgern        False       False   \n",
       "3                       tom hat mir die hand geküsst        False       False   \n",
       "4                    ich wusste dass dir das gefiele        False       False   \n",
       "\n",
       "   lan_german  lan_spanish  \n",
       "0        True        False  \n",
       "1        True        False  \n",
       "2        True        False  \n",
       "3        True        False  \n",
       "4        True        False  "
      ]
     },
     "execution_count": 6,
     "metadata": {},
     "output_type": "execute_result"
    }
   ],
   "source": [
    "def onehot_encode(df, columns, prefixes):\n",
    "    df = df.copy()\n",
    "    for column, prefix in zip (columns, prefixes):\n",
    "        dummies = pd.get_dummies(df[column], prefix=prefix)\n",
    "        df = pd.concat([df , dummies], axis=1)\n",
    "        df = df.drop(column, axis=1)\n",
    "    return df\n",
    "\n",
    "df = onehot_encode(\n",
    "    df,\n",
    "    columns=['language'],\n",
    "    prefixes=['lan']\n",
    ")\n",
    "df.head()"
   ]
  },
  {
   "cell_type": "code",
   "execution_count": 7,
   "metadata": {},
   "outputs": [
    {
     "data": {
      "image/png": "[encoded data removed]",
      "text/plain": [
       "<Figure size 1000x800 with 2 Axes>"
      ]
     },
     "metadata": {},
     "output_type": "display_data"
    }
   ],
   "source": [
    "#Represnting the data in a heta-map as a form of visualisation\n",
    "\n",
    "import seaborn as sns\n",
    "import matplotlib.pyplot as plt\n",
    "\n",
    "language_columns = [col for col in df.columns if col.startswith('lan_')]\n",
    "\n",
    "# Calculate the correlation matrix\n",
    "correlation_matrix = df[language_columns].corr()\n",
    "\n",
    "# Create the heatmap\n",
    "plt.figure(figsize=(10, 8))\n",
    "sns.heatmap(correlation_matrix, annot=True, cmap='coolwarm', fmt=\".2f\")\n",
    "plt.title('Correlation Heatmap of One-Hot Encoded Language Labels')\n",
    "plt.xlabel('Language')\n",
    "plt.ylabel('Language')\n",
    "plt.show()"
   ]
  },
  {
   "cell_type": "code",
   "execution_count": 8,
   "metadata": {},
   "outputs": [
    {
     "name": "stderr",
     "output_type": "stream",
     "text": [
      "[nltk_data] Downloading package punkt to\n",
      "[nltk_data]     /Users/elvisechefu/nltk_data...\n",
      "[nltk_data]   Package punkt is already up-to-date!\n",
      "[nltk_data] Downloading package stopwords to\n",
      "[nltk_data]     /Users/elvisechefu/nltk_data...\n",
      "[nltk_data]   Package stopwords is already up-to-date!\n"
     ]
    },
    {
     "data": {
      "text/plain": [
       "True"
      ]
     },
     "execution_count": 8,
     "metadata": {},
     "output_type": "execute_result"
    }
   ],
   "source": [
    "\n",
    "import pandas as pd\n",
    "import nltk\n",
    "import re\n",
    "from nltk.corpus import stopwords\n",
    "\n",
    "# Ensure NLTK resources are downloaded\n",
    "nltk.download('punkt')\n",
    "nltk.download('stopwords')"
   ]
  },
  {
   "cell_type": "code",
   "execution_count": 9,
   "metadata": {},
   "outputs": [],
   "source": [
    "# Lowercasing\n",
    "df['clean_text'] = df['text'].apply(lambda x: x.lower())"
   ]
  },
  {
   "cell_type": "code",
   "execution_count": 10,
   "metadata": {},
   "outputs": [],
   "source": [
    "\n",
    "# Tokenization\n",
    "df['tokenized_text'] = df['clean_text'].apply(nltk.word_tokenize)"
   ]
  },
  {
   "cell_type": "code",
   "execution_count": 11,
   "metadata": {},
   "outputs": [],
   "source": [
    "\n",
    "# Removing Punctuation and Special Characters\n",
    "def remove_special_characters(text):\n",
    "    return re.sub(r'[^a-zA-Z0-9\\s]', '', text)\n",
    "\n",
    "df['clean_text'] = df['clean_text'].apply(remove_special_characters)"
   ]
  },
  {
   "cell_type": "code",
   "execution_count": 12,
   "metadata": {},
   "outputs": [],
   "source": [
    "# Removing Stopwords\n",
    "stop_words = set(stopwords.words('english'))\n",
    "def remove_stopwords(text):\n",
    "    return [word for word in text if word not in stop_words]\n",
    "\n",
    "df['preprocessed_text'] = df['tokenized_text'].apply(remove_stopwords)"
   ]
  },
  {
   "cell_type": "code",
   "execution_count": 13,
   "metadata": {},
   "outputs": [
    {
     "data": {
      "text/html": [
       "<div>\n",
       "<style scoped>\n",
       "    .dataframe tbody tr th:only-of-type {\n",
       "        vertical-align: middle;\n",
       "    }\n",
       "\n",
       "    .dataframe tbody tr th {\n",
       "        vertical-align: top;\n",
       "    }\n",
       "\n",
       "    .dataframe thead th {\n",
       "        text-align: right;\n",
       "    }\n",
       "</style>\n",
       "<table border=\"1\" class=\"dataframe\">\n",
       "  <thead>\n",
       "    <tr style=\"text-align: right;\">\n",
       "      <th></th>\n",
       "      <th>text</th>\n",
       "      <th>lan_english</th>\n",
       "      <th>lan_french</th>\n",
       "      <th>lan_german</th>\n",
       "      <th>lan_spanish</th>\n",
       "      <th>clean_text</th>\n",
       "      <th>tokenized_text</th>\n",
       "      <th>preprocessed_text</th>\n",
       "    </tr>\n",
       "  </thead>\n",
       "  <tbody>\n",
       "    <tr>\n",
       "      <th>0</th>\n",
       "      <td>ich denke es handelt sich hier um ein missvers...</td>\n",
       "      <td>False</td>\n",
       "      <td>False</td>\n",
       "      <td>True</td>\n",
       "      <td>False</td>\n",
       "      <td>ich denke es handelt sich hier um ein missvers...</td>\n",
       "      <td>[ich, denke, es, handelt, sich, hier, um, ein,...</td>\n",
       "      <td>[ich, denke, es, handelt, sich, hier, um, ein,...</td>\n",
       "    </tr>\n",
       "    <tr>\n",
       "      <th>1</th>\n",
       "      <td>ich habe tom gerade erst verlassen</td>\n",
       "      <td>False</td>\n",
       "      <td>False</td>\n",
       "      <td>True</td>\n",
       "      <td>False</td>\n",
       "      <td>ich habe tom gerade erst verlassen</td>\n",
       "      <td>[ich, habe, tom, gerade, erst, verlassen]</td>\n",
       "      <td>[ich, habe, tom, gerade, erst, verlassen]</td>\n",
       "    </tr>\n",
       "    <tr>\n",
       "      <th>2</th>\n",
       "      <td>tom versuchte mary nur zu ärgern</td>\n",
       "      <td>False</td>\n",
       "      <td>False</td>\n",
       "      <td>True</td>\n",
       "      <td>False</td>\n",
       "      <td>tom versuchte mary nur zu rgern</td>\n",
       "      <td>[tom, versuchte, mary, nur, zu, ärgern]</td>\n",
       "      <td>[tom, versuchte, mary, nur, zu, ärgern]</td>\n",
       "    </tr>\n",
       "    <tr>\n",
       "      <th>3</th>\n",
       "      <td>tom hat mir die hand geküsst</td>\n",
       "      <td>False</td>\n",
       "      <td>False</td>\n",
       "      <td>True</td>\n",
       "      <td>False</td>\n",
       "      <td>tom hat mir die hand geksst</td>\n",
       "      <td>[tom, hat, mir, die, hand, geküsst]</td>\n",
       "      <td>[tom, hat, mir, die, hand, geküsst]</td>\n",
       "    </tr>\n",
       "    <tr>\n",
       "      <th>4</th>\n",
       "      <td>ich wusste dass dir das gefiele</td>\n",
       "      <td>False</td>\n",
       "      <td>False</td>\n",
       "      <td>True</td>\n",
       "      <td>False</td>\n",
       "      <td>ich wusste dass dir das gefiele</td>\n",
       "      <td>[ich, wusste, dass, dir, das, gefiele]</td>\n",
       "      <td>[ich, wusste, dass, dir, das, gefiele]</td>\n",
       "    </tr>\n",
       "    <tr>\n",
       "      <th>5</th>\n",
       "      <td>gehen sie mir aus dem weg</td>\n",
       "      <td>False</td>\n",
       "      <td>False</td>\n",
       "      <td>True</td>\n",
       "      <td>False</td>\n",
       "      <td>gehen sie mir aus dem weg</td>\n",
       "      <td>[gehen, sie, mir, aus, dem, weg]</td>\n",
       "      <td>[gehen, sie, mir, aus, dem, weg]</td>\n",
       "    </tr>\n",
       "    <tr>\n",
       "      <th>6</th>\n",
       "      <td>zieht eure schlafanzüge an</td>\n",
       "      <td>False</td>\n",
       "      <td>False</td>\n",
       "      <td>True</td>\n",
       "      <td>False</td>\n",
       "      <td>zieht eure schlafanzge an</td>\n",
       "      <td>[zieht, eure, schlafanzüge, an]</td>\n",
       "      <td>[zieht, eure, schlafanzüge]</td>\n",
       "    </tr>\n",
       "    <tr>\n",
       "      <th>7</th>\n",
       "      <td>als kind war ich süchtig nach kriminalromanen</td>\n",
       "      <td>False</td>\n",
       "      <td>False</td>\n",
       "      <td>True</td>\n",
       "      <td>False</td>\n",
       "      <td>als kind war ich schtig nach kriminalromanen</td>\n",
       "      <td>[als, kind, war, ich, süchtig, nach, kriminalr...</td>\n",
       "      <td>[als, kind, war, ich, süchtig, nach, kriminalr...</td>\n",
       "    </tr>\n",
       "    <tr>\n",
       "      <th>8</th>\n",
       "      <td>ich habe das auto mit zehn prozent rabatt gekauft</td>\n",
       "      <td>False</td>\n",
       "      <td>False</td>\n",
       "      <td>True</td>\n",
       "      <td>False</td>\n",
       "      <td>ich habe das auto mit zehn prozent rabatt gekauft</td>\n",
       "      <td>[ich, habe, das, auto, mit, zehn, prozent, rab...</td>\n",
       "      <td>[ich, habe, das, auto, mit, zehn, prozent, rab...</td>\n",
       "    </tr>\n",
       "    <tr>\n",
       "      <th>9</th>\n",
       "      <td>niemand anders könnte meine arbeit machen</td>\n",
       "      <td>False</td>\n",
       "      <td>False</td>\n",
       "      <td>True</td>\n",
       "      <td>False</td>\n",
       "      <td>niemand anders knnte meine arbeit machen</td>\n",
       "      <td>[niemand, anders, könnte, meine, arbeit, machen]</td>\n",
       "      <td>[niemand, anders, könnte, meine, arbeit, machen]</td>\n",
       "    </tr>\n",
       "  </tbody>\n",
       "</table>\n",
       "</div>"
      ],
      "text/plain": [
       "                                                text  lan_english  lan_french  \\\n",
       "0  ich denke es handelt sich hier um ein missvers...        False       False   \n",
       "1                 ich habe tom gerade erst verlassen        False       False   \n",
       "2                   tom versuchte mary nur zu ärgern        False       False   \n",
       "3                       tom hat mir die hand geküsst        False       False   \n",
       "4                    ich wusste dass dir das gefiele        False       False   \n",
       "5                          gehen sie mir aus dem weg        False       False   \n",
       "6                         zieht eure schlafanzüge an        False       False   \n",
       "7      als kind war ich süchtig nach kriminalromanen        False       False   \n",
       "8  ich habe das auto mit zehn prozent rabatt gekauft        False       False   \n",
       "9          niemand anders könnte meine arbeit machen        False       False   \n",
       "\n",
       "   lan_german  lan_spanish                                         clean_text  \\\n",
       "0        True        False  ich denke es handelt sich hier um ein missvers...   \n",
       "1        True        False                 ich habe tom gerade erst verlassen   \n",
       "2        True        False                    tom versuchte mary nur zu rgern   \n",
       "3        True        False                        tom hat mir die hand geksst   \n",
       "4        True        False                    ich wusste dass dir das gefiele   \n",
       "5        True        False                          gehen sie mir aus dem weg   \n",
       "6        True        False                          zieht eure schlafanzge an   \n",
       "7        True        False       als kind war ich schtig nach kriminalromanen   \n",
       "8        True        False  ich habe das auto mit zehn prozent rabatt gekauft   \n",
       "9        True        False           niemand anders knnte meine arbeit machen   \n",
       "\n",
       "                                      tokenized_text  \\\n",
       "0  [ich, denke, es, handelt, sich, hier, um, ein,...   \n",
       "1          [ich, habe, tom, gerade, erst, verlassen]   \n",
       "2            [tom, versuchte, mary, nur, zu, ärgern]   \n",
       "3                [tom, hat, mir, die, hand, geküsst]   \n",
       "4             [ich, wusste, dass, dir, das, gefiele]   \n",
       "5                   [gehen, sie, mir, aus, dem, weg]   \n",
       "6                    [zieht, eure, schlafanzüge, an]   \n",
       "7  [als, kind, war, ich, süchtig, nach, kriminalr...   \n",
       "8  [ich, habe, das, auto, mit, zehn, prozent, rab...   \n",
       "9   [niemand, anders, könnte, meine, arbeit, machen]   \n",
       "\n",
       "                                   preprocessed_text  \n",
       "0  [ich, denke, es, handelt, sich, hier, um, ein,...  \n",
       "1          [ich, habe, tom, gerade, erst, verlassen]  \n",
       "2            [tom, versuchte, mary, nur, zu, ärgern]  \n",
       "3                [tom, hat, mir, die, hand, geküsst]  \n",
       "4             [ich, wusste, dass, dir, das, gefiele]  \n",
       "5                   [gehen, sie, mir, aus, dem, weg]  \n",
       "6                        [zieht, eure, schlafanzüge]  \n",
       "7  [als, kind, war, ich, süchtig, nach, kriminalr...  \n",
       "8  [ich, habe, das, auto, mit, zehn, prozent, rab...  \n",
       "9   [niemand, anders, könnte, meine, arbeit, machen]  "
      ]
     },
     "execution_count": 13,
     "metadata": {},
     "output_type": "execute_result"
    }
   ],
   "source": [
    "df.head(10)"
   ]
  },
  {
   "cell_type": "code",
   "execution_count": 14,
   "metadata": {},
   "outputs": [],
   "source": [
    "import importlib\n",
    "\n",
    "smart_open = importlib.import_module('smart_open')\n",
    "\n",
    "# Use the `smart_open` module as usual"
   ]
  },
  {
   "cell_type": "code",
   "execution_count": 15,
   "metadata": {},
   "outputs": [],
   "source": [
    "import tensorflow_hub as hub"
   ]
  },
  {
   "cell_type": "code",
   "execution_count": 16,
   "metadata": {},
   "outputs": [
    {
     "name": "stdout",
     "output_type": "stream",
     "text": [
      "4.3.0\n"
     ]
    }
   ],
   "source": [
    "import gensim\n",
    "print(gensim.__version__)"
   ]
  },
  {
   "cell_type": "code",
   "execution_count": 17,
   "metadata": {},
   "outputs": [],
   "source": [
    "import gensim.downloader as api\n",
    "# Load pre-trained Word2Vec model\n",
    "word2vec_model = api.load(\"word2vec-google-news-300\")"
   ]
  },
  {
   "cell_type": "code",
   "execution_count": 18,
   "metadata": {},
   "outputs": [],
   "source": [
    "# Function to calculate word embeddings for a single sentence\n",
    "def get_sentence_embedding(sentence):\n",
    "    word_embeddings = []\n",
    "    for word in sentence:\n",
    "        if word in word2vec_model:\n",
    "            word_embeddings.append(word2vec_model[word])\n",
    "    if word_embeddings:\n",
    "        return np.mean(word_embeddings, axis=0)\n",
    "    else:\n",
    "        return np.zeros(word2vec_model.vector_size)  # Return zero vector if no embeddings found"
   ]
  },
  {
   "cell_type": "code",
   "execution_count": 19,
   "metadata": {},
   "outputs": [],
   "source": [
    "# Calculate word embeddings for each sentence in the preprocessed_text column\n",
    "sentence_embeddings = df['preprocessed_text'].apply(get_sentence_embedding)"
   ]
  },
  {
   "cell_type": "code",
   "execution_count": null,
   "metadata": {},
   "outputs": [
    {
     "name": "stdout",
     "output_type": "stream",
     "text": [
      "             0         1         2         3         4         5         6    \\\n",
      "0       0.160191  0.075335  0.017479  0.019527 -0.073138  0.105469  0.082066   \n",
      "1       0.101733  0.147803 -0.076653  0.075049 -0.051208  0.032227  0.011084   \n",
      "2       0.153046  0.073502 -0.078613  0.105591 -0.049408 -0.009155  0.052979   \n",
      "3       0.014868  0.048608 -0.090283  0.182666 -0.185156 -0.005957  0.157471   \n",
      "4       0.250977  0.045776  0.073038 -0.035400  0.009239  0.160034  0.020020   \n",
      "...          ...       ...       ...       ...       ...       ...       ...   \n",
      "763679  0.054390  0.003998  0.053654  0.159729 -0.216125 -0.051636  0.086121   \n",
      "763680  0.059814  0.183594 -0.025024 -0.087402  0.068848  0.208008  0.090820   \n",
      "763681  0.154078  0.200195  0.018270  0.063843 -0.229980  0.001628  0.053528   \n",
      "763682 -0.035889  0.099609  0.351562  0.474609 -0.008972 -0.069824  0.043213   \n",
      "763683  0.023315  0.124512 -0.169952 -0.062103  0.024261 -0.054626  0.012634   \n",
      "\n",
      "             7         8         9    ...       290       291       292  \\\n",
      "0      -0.039847  0.010132  0.183547  ...  0.022077  0.087751 -0.031869   \n",
      "1       0.002155  0.008231  0.205859  ... -0.012891  0.070215 -0.023901   \n",
      "2      -0.036156 -0.091827  0.174973  ...  0.059814  0.022034  0.013550   \n",
      "3      -0.099188  0.134619  0.128271  ... -0.004736  0.060522 -0.108215   \n",
      "4       0.040222 -0.002853  0.178467  ...  0.009460  0.077454 -0.057251   \n",
      "...          ...       ...       ...  ...       ...       ...       ...   \n",
      "763679 -0.022461  0.154694  0.190491  ...  0.030884  0.151947 -0.040436   \n",
      "763680 -0.144531  0.128906  0.117676  ... -0.167969 -0.079590 -0.392578   \n",
      "763681 -0.134440  0.072428  0.213623  ...  0.023275  0.011149 -0.116699   \n",
      "763682 -0.390625 -0.109863  0.206055  ...  0.083496  0.248047  0.003876   \n",
      "763683 -0.043541 -0.100281  0.090820  ... -0.091187  0.132568 -0.140198   \n",
      "\n",
      "             293       294       295       296       297       298       299  \n",
      "0       0.103428 -0.143825 -0.015032 -0.075300  0.007725  0.033927  0.143912  \n",
      "1      -0.038623 -0.164551 -0.038776 -0.137500 -0.020544  0.037549  0.206543  \n",
      "2      -0.075195 -0.171387  0.089417 -0.063232 -0.166626  0.067871  0.235962  \n",
      "3      -0.004297  0.070459 -0.083301 -0.050781 -0.056357  0.022510  0.145142  \n",
      "4       0.152466 -0.146484 -0.084717 -0.151245 -0.099854  0.010498  0.228333  \n",
      "...          ...       ...       ...       ...       ...       ...       ...  \n",
      "763679  0.055908 -0.089844 -0.141479  0.042358 -0.076416  0.016846  0.079208  \n",
      "763680  0.020142  0.154297 -0.044922 -0.160156 -0.179688  0.216797 -0.219727  \n",
      "763681 -0.013997 -0.013997  0.053548 -0.111410  0.001485  0.032389 -0.040120  \n",
      "763682 -0.040771  0.101074 -0.208008 -0.055908 -0.169922 -0.255859 -0.058105  \n",
      "763683 -0.014404  0.059177  0.000549 -0.006592  0.078003 -0.018478  0.187256  \n",
      "\n",
      "[763684 rows x 300 columns]\n"
     ]
    }
   ],
   "source": [
    "# Convert embeddings to a NumPy array\n",
    "embedding_array = np.array(sentence_embeddings.tolist())\n",
    "\n",
    "# Convert NumPy array to DataFrame\n",
    "embedding_df = pd.DataFrame(embedding_array)\n",
    "\n",
    "# Print DataFrame with embeddings as features\n",
    "print(embedding_df)"
   ]
  },
  {
   "cell_type": "code",
   "execution_count": null,
   "metadata": {},
   "outputs": [
    {
     "data": {
      "text/html": [
       "<div>\n",
       "<style scoped>\n",
       "    .dataframe tbody tr th:only-of-type {\n",
       "        vertical-align: middle;\n",
       "    }\n",
       "\n",
       "    .dataframe tbody tr th {\n",
       "        vertical-align: top;\n",
       "    }\n",
       "\n",
       "    .dataframe thead th {\n",
       "        text-align: right;\n",
       "    }\n",
       "</style>\n",
       "<table border=\"1\" class=\"dataframe\">\n",
       "  <thead>\n",
       "    <tr style=\"text-align: right;\">\n",
       "      <th></th>\n",
       "      <th>text</th>\n",
       "      <th>lan_english</th>\n",
       "      <th>lan_french</th>\n",
       "      <th>lan_german</th>\n",
       "      <th>lan_spanish</th>\n",
       "      <th>clean_text</th>\n",
       "      <th>tokenized_text</th>\n",
       "      <th>preprocessed_text</th>\n",
       "    </tr>\n",
       "  </thead>\n",
       "  <tbody>\n",
       "    <tr>\n",
       "      <th>0</th>\n",
       "      <td>ich denke es handelt sich hier um ein missvers...</td>\n",
       "      <td>False</td>\n",
       "      <td>False</td>\n",
       "      <td>True</td>\n",
       "      <td>False</td>\n",
       "      <td>ich denke es handelt sich hier um ein missvers...</td>\n",
       "      <td>[ich, denke, es, handelt, sich, hier, um, ein,...</td>\n",
       "      <td>[ich, denke, es, handelt, sich, hier, um, ein,...</td>\n",
       "    </tr>\n",
       "    <tr>\n",
       "      <th>1</th>\n",
       "      <td>ich habe tom gerade erst verlassen</td>\n",
       "      <td>False</td>\n",
       "      <td>False</td>\n",
       "      <td>True</td>\n",
       "      <td>False</td>\n",
       "      <td>ich habe tom gerade erst verlassen</td>\n",
       "      <td>[ich, habe, tom, gerade, erst, verlassen]</td>\n",
       "      <td>[ich, habe, tom, gerade, erst, verlassen]</td>\n",
       "    </tr>\n",
       "    <tr>\n",
       "      <th>2</th>\n",
       "      <td>tom versuchte mary nur zu ärgern</td>\n",
       "      <td>False</td>\n",
       "      <td>False</td>\n",
       "      <td>True</td>\n",
       "      <td>False</td>\n",
       "      <td>tom versuchte mary nur zu rgern</td>\n",
       "      <td>[tom, versuchte, mary, nur, zu, ärgern]</td>\n",
       "      <td>[tom, versuchte, mary, nur, zu, ärgern]</td>\n",
       "    </tr>\n",
       "    <tr>\n",
       "      <th>3</th>\n",
       "      <td>tom hat mir die hand geküsst</td>\n",
       "      <td>False</td>\n",
       "      <td>False</td>\n",
       "      <td>True</td>\n",
       "      <td>False</td>\n",
       "      <td>tom hat mir die hand geksst</td>\n",
       "      <td>[tom, hat, mir, die, hand, geküsst]</td>\n",
       "      <td>[tom, hat, mir, die, hand, geküsst]</td>\n",
       "    </tr>\n",
       "    <tr>\n",
       "      <th>4</th>\n",
       "      <td>ich wusste dass dir das gefiele</td>\n",
       "      <td>False</td>\n",
       "      <td>False</td>\n",
       "      <td>True</td>\n",
       "      <td>False</td>\n",
       "      <td>ich wusste dass dir das gefiele</td>\n",
       "      <td>[ich, wusste, dass, dir, das, gefiele]</td>\n",
       "      <td>[ich, wusste, dass, dir, das, gefiele]</td>\n",
       "    </tr>\n",
       "    <tr>\n",
       "      <th>5</th>\n",
       "      <td>gehen sie mir aus dem weg</td>\n",
       "      <td>False</td>\n",
       "      <td>False</td>\n",
       "      <td>True</td>\n",
       "      <td>False</td>\n",
       "      <td>gehen sie mir aus dem weg</td>\n",
       "      <td>[gehen, sie, mir, aus, dem, weg]</td>\n",
       "      <td>[gehen, sie, mir, aus, dem, weg]</td>\n",
       "    </tr>\n",
       "    <tr>\n",
       "      <th>6</th>\n",
       "      <td>zieht eure schlafanzüge an</td>\n",
       "      <td>False</td>\n",
       "      <td>False</td>\n",
       "      <td>True</td>\n",
       "      <td>False</td>\n",
       "      <td>zieht eure schlafanzge an</td>\n",
       "      <td>[zieht, eure, schlafanzüge, an]</td>\n",
       "      <td>[zieht, eure, schlafanzüge]</td>\n",
       "    </tr>\n",
       "    <tr>\n",
       "      <th>7</th>\n",
       "      <td>als kind war ich süchtig nach kriminalromanen</td>\n",
       "      <td>False</td>\n",
       "      <td>False</td>\n",
       "      <td>True</td>\n",
       "      <td>False</td>\n",
       "      <td>als kind war ich schtig nach kriminalromanen</td>\n",
       "      <td>[als, kind, war, ich, süchtig, nach, kriminalr...</td>\n",
       "      <td>[als, kind, war, ich, süchtig, nach, kriminalr...</td>\n",
       "    </tr>\n",
       "    <tr>\n",
       "      <th>8</th>\n",
       "      <td>ich habe das auto mit zehn prozent rabatt gekauft</td>\n",
       "      <td>False</td>\n",
       "      <td>False</td>\n",
       "      <td>True</td>\n",
       "      <td>False</td>\n",
       "      <td>ich habe das auto mit zehn prozent rabatt gekauft</td>\n",
       "      <td>[ich, habe, das, auto, mit, zehn, prozent, rab...</td>\n",
       "      <td>[ich, habe, das, auto, mit, zehn, prozent, rab...</td>\n",
       "    </tr>\n",
       "    <tr>\n",
       "      <th>9</th>\n",
       "      <td>niemand anders könnte meine arbeit machen</td>\n",
       "      <td>False</td>\n",
       "      <td>False</td>\n",
       "      <td>True</td>\n",
       "      <td>False</td>\n",
       "      <td>niemand anders knnte meine arbeit machen</td>\n",
       "      <td>[niemand, anders, könnte, meine, arbeit, machen]</td>\n",
       "      <td>[niemand, anders, könnte, meine, arbeit, machen]</td>\n",
       "    </tr>\n",
       "  </tbody>\n",
       "</table>\n",
       "</div>"
      ],
      "text/plain": [
       "                                                text  lan_english  lan_french  \\\n",
       "0  ich denke es handelt sich hier um ein missvers...        False       False   \n",
       "1                 ich habe tom gerade erst verlassen        False       False   \n",
       "2                   tom versuchte mary nur zu ärgern        False       False   \n",
       "3                       tom hat mir die hand geküsst        False       False   \n",
       "4                    ich wusste dass dir das gefiele        False       False   \n",
       "5                          gehen sie mir aus dem weg        False       False   \n",
       "6                         zieht eure schlafanzüge an        False       False   \n",
       "7      als kind war ich süchtig nach kriminalromanen        False       False   \n",
       "8  ich habe das auto mit zehn prozent rabatt gekauft        False       False   \n",
       "9          niemand anders könnte meine arbeit machen        False       False   \n",
       "\n",
       "   lan_german  lan_spanish                                         clean_text  \\\n",
       "0        True        False  ich denke es handelt sich hier um ein missvers...   \n",
       "1        True        False                 ich habe tom gerade erst verlassen   \n",
       "2        True        False                    tom versuchte mary nur zu rgern   \n",
       "3        True        False                        tom hat mir die hand geksst   \n",
       "4        True        False                    ich wusste dass dir das gefiele   \n",
       "5        True        False                          gehen sie mir aus dem weg   \n",
       "6        True        False                          zieht eure schlafanzge an   \n",
       "7        True        False       als kind war ich schtig nach kriminalromanen   \n",
       "8        True        False  ich habe das auto mit zehn prozent rabatt gekauft   \n",
       "9        True        False           niemand anders knnte meine arbeit machen   \n",
       "\n",
       "                                      tokenized_text  \\\n",
       "0  [ich, denke, es, handelt, sich, hier, um, ein,...   \n",
       "1          [ich, habe, tom, gerade, erst, verlassen]   \n",
       "2            [tom, versuchte, mary, nur, zu, ärgern]   \n",
       "3                [tom, hat, mir, die, hand, geküsst]   \n",
       "4             [ich, wusste, dass, dir, das, gefiele]   \n",
       "5                   [gehen, sie, mir, aus, dem, weg]   \n",
       "6                    [zieht, eure, schlafanzüge, an]   \n",
       "7  [als, kind, war, ich, süchtig, nach, kriminalr...   \n",
       "8  [ich, habe, das, auto, mit, zehn, prozent, rab...   \n",
       "9   [niemand, anders, könnte, meine, arbeit, machen]   \n",
       "\n",
       "                                   preprocessed_text  \n",
       "0  [ich, denke, es, handelt, sich, hier, um, ein,...  \n",
       "1          [ich, habe, tom, gerade, erst, verlassen]  \n",
       "2            [tom, versuchte, mary, nur, zu, ärgern]  \n",
       "3                [tom, hat, mir, die, hand, geküsst]  \n",
       "4             [ich, wusste, dass, dir, das, gefiele]  \n",
       "5                   [gehen, sie, mir, aus, dem, weg]  \n",
       "6                        [zieht, eure, schlafanzüge]  \n",
       "7  [als, kind, war, ich, süchtig, nach, kriminalr...  \n",
       "8  [ich, habe, das, auto, mit, zehn, prozent, rab...  \n",
       "9   [niemand, anders, könnte, meine, arbeit, machen]  "
      ]
     },
     "execution_count": 21,
     "metadata": {},
     "output_type": "execute_result"
    }
   ],
   "source": [
    "df.head(10)"
   ]
  },
  {
   "cell_type": "code",
   "execution_count": null,
   "metadata": {},
   "outputs": [],
   "source": [
    "from sklearn.model_selection import train_test_split\n",
    "\n",
    "# Split the data into features (X) and target labels (y)\n",
    "X = df['preprocessed_text']\n",
    "y = df['tokenized_text']"
   ]
  },
  {
   "cell_type": "code",
   "execution_count": null,
   "metadata": {},
   "outputs": [],
   "source": [
    "# Split the data into training and test sets (80% train, 20% test)\n",
    "X_train, X_test, y_train, y_test = train_test_split(X, y, test_size=0.2, random_state=42)"
   ]
  },
  {
   "cell_type": "code",
   "execution_count": null,
   "metadata": {},
   "outputs": [],
   "source": [
    "# Split the training data into training and validation sets (80% train, 20% validate)\n",
    "X_train, X_val, y_train, y_val = train_test_split(X_train, y_train, test_size=0.2, random_state=42)"
   ]
  },
  {
   "cell_type": "code",
   "execution_count": null,
   "metadata": {},
   "outputs": [
    {
     "name": "stdout",
     "output_type": "stream",
     "text": [
      "Train set: (488757,) (488757,)\n",
      "Validation set: (122190,) (122190,)\n",
      "Test set: (152737,) (152737,)\n"
     ]
    }
   ],
   "source": [
    "# Print the shapes of the resulting sets\n",
    "print(\"Train set:\", X_train.shape, y_train.shape)\n",
    "print(\"Validation set:\", X_val.shape, y_val.shape)\n",
    "print(\"Test set:\", X_test.shape, y_test.shape)"
   ]
  },
  {
   "cell_type": "code",
   "execution_count": null,
   "metadata": {},
   "outputs": [],
   "source": [
    "from sklearn.svm import SVC"
   ]
  },
  {
   "cell_type": "code",
   "execution_count": null,
   "metadata": {},
   "outputs": [
    {
     "data": {
      "text/html": [
       "<style>#sk-container-id-1 {color: black;}#sk-container-id-1 pre{padding: 0;}#sk-container-id-1 div.sk-toggleable {background-color: white;}#sk-container-id-1 label.sk-toggleable__label {cursor: pointer;display: block;width: 100%;margin-bottom: 0;padding: 0.3em;box-sizing: border-box;text-align: center;}#sk-container-id-1 label.sk-toggleable__label-arrow:before {content: \"▸\";float: left;margin-right: 0.25em;color: #696969;}#sk-container-id-1 label.sk-toggleable__label-arrow:hover:before {color: black;}#sk-container-id-1 div.sk-estimator:hover label.sk-toggleable__label-arrow:before {color: black;}#sk-container-id-1 div.sk-toggleable__content {max-height: 0;max-width: 0;overflow: hidden;text-align: left;background-color: #f0f8ff;}#sk-container-id-1 div.sk-toggleable__content pre {margin: 0.2em;color: black;border-radius: 0.25em;background-color: #f0f8ff;}#sk-container-id-1 input.sk-toggleable__control:checked~div.sk-toggleable__content {max-height: 200px;max-width: 100%;overflow: auto;}#sk-container-id-1 input.sk-toggleable__control:checked~label.sk-toggleable__label-arrow:before {content: \"▾\";}#sk-container-id-1 div.sk-estimator input.sk-toggleable__control:checked~label.sk-toggleable__label {background-color: #d4ebff;}#sk-container-id-1 div.sk-label input.sk-toggleable__control:checked~label.sk-toggleable__label {background-color: #d4ebff;}#sk-container-id-1 input.sk-hidden--visually {border: 0;clip: rect(1px 1px 1px 1px);clip: rect(1px, 1px, 1px, 1px);height: 1px;margin: -1px;overflow: hidden;padding: 0;position: absolute;width: 1px;}#sk-container-id-1 div.sk-estimator {font-family: monospace;background-color: #f0f8ff;border: 1px dotted black;border-radius: 0.25em;box-sizing: border-box;margin-bottom: 0.5em;}#sk-container-id-1 div.sk-estimator:hover {background-color: #d4ebff;}#sk-container-id-1 div.sk-parallel-item::after {content: \"\";width: 100%;border-bottom: 1px solid gray;flex-grow: 1;}#sk-container-id-1 div.sk-label:hover label.sk-toggleable__label {background-color: #d4ebff;}#sk-container-id-1 div.sk-serial::before {content: \"\";position: absolute;border-left: 1px solid gray;box-sizing: border-box;top: 0;bottom: 0;left: 50%;z-index: 0;}#sk-container-id-1 div.sk-serial {display: flex;flex-direction: column;align-items: center;background-color: white;padding-right: 0.2em;padding-left: 0.2em;position: relative;}#sk-container-id-1 div.sk-item {position: relative;z-index: 1;}#sk-container-id-1 div.sk-parallel {display: flex;align-items: stretch;justify-content: center;background-color: white;position: relative;}#sk-container-id-1 div.sk-item::before, #sk-container-id-1 div.sk-parallel-item::before {content: \"\";position: absolute;border-left: 1px solid gray;box-sizing: border-box;top: 0;bottom: 0;left: 50%;z-index: -1;}#sk-container-id-1 div.sk-parallel-item {display: flex;flex-direction: column;z-index: 1;position: relative;background-color: white;}#sk-container-id-1 div.sk-parallel-item:first-child::after {align-self: flex-end;width: 50%;}#sk-container-id-1 div.sk-parallel-item:last-child::after {align-self: flex-start;width: 50%;}#sk-container-id-1 div.sk-parallel-item:only-child::after {width: 0;}#sk-container-id-1 div.sk-dashed-wrapped {border: 1px dashed gray;margin: 0 0.4em 0.5em 0.4em;box-sizing: border-box;padding-bottom: 0.4em;background-color: white;}#sk-container-id-1 div.sk-label label {font-family: monospace;font-weight: bold;display: inline-block;line-height: 1.2em;}#sk-container-id-1 div.sk-label-container {text-align: center;}#sk-container-id-1 div.sk-container {/* jupyter's `normalize.less` sets `[hidden] { display: none; }` but bootstrap.min.css set `[hidden] { display: none !important; }` so we also need the `!important` here to be able to override the default hidden behavior on the sphinx rendered scikit-learn.org. See: https://github.com/scikit-learn/scikit-learn/issues/21755 */display: inline-block !important;position: relative;}#sk-container-id-1 div.sk-text-repr-fallback {display: none;}</style><div id=\"sk-container-id-1\" class=\"sk-top-container\"><div class=\"sk-text-repr-fallback\"><pre>MultiLabelBinarizer()</pre><b>In a Jupyter environment, please rerun this cell to show the HTML representation or trust the notebook. <br />On GitHub, the HTML representation is unable to render, please try loading this page with nbviewer.org.</b></div><div class=\"sk-container\" hidden><div class=\"sk-item\"><div class=\"sk-estimator sk-toggleable\"><input class=\"sk-toggleable__control sk-hidden--visually\" id=\"sk-estimator-id-1\" type=\"checkbox\" checked><label for=\"sk-estimator-id-1\" class=\"sk-toggleable__label sk-toggleable__label-arrow\">MultiLabelBinarizer</label><div class=\"sk-toggleable__content\"><pre>MultiLabelBinarizer()</pre></div></div></div></div></div>"
      ],
      "text/plain": [
       "MultiLabelBinarizer()"
      ]
     },
     "execution_count": 27,
     "metadata": {},
     "output_type": "execute_result"
    }
   ],
   "source": [
    "from sklearn.preprocessing import MultiLabelBinarizer\n",
    "mlb = MultiLabelBinarizer()\n",
    "mlb.fit(y_train)"
   ]
  },
  {
   "cell_type": "code",
   "execution_count": null,
   "metadata": {},
   "outputs": [
    {
     "ename": "",
     "evalue": "",
     "output_type": "error",
     "traceback": [
      "\u001b[1;31mCannot execute code, session has been disposed. Please try restarting the Kernel."
     ]
    },
    {
     "ename": "",
     "evalue": "",
     "output_type": "error",
     "traceback": [
      "\u001b[1;31mThe Kernel crashed while executing code in the the current cell or a previous cell. Please review the code in the cell(s) to identify a possible cause of the failure. Click <a href='https://aka.ms/vscodeJupyterKernelCrash'>here</a> for more info. View Jupyter <a href='command:jupyter.viewOutput'>log</a> for further details."
     ]
    }
   ],
   "source": [
    "y_train_binary = mlb.transform(y_train)\n",
    "y_val_binary = mlb.transform(y_val)\n",
    "y_test_binary = mlb.transform(y_test)"
   ]
  }
 ],
 "metadata": {
  "kernelspec": {
   "display_name": "Python 3",
   "language": "python",
   "name": "python3"
  },
  "language_info": {
   "codemirror_mode": {
    "name": "ipython",
    "version": 3
   },
   "file_extension": ".py",
   "mimetype": "text/x-python",
   "name": "python",
   "nbconvert_exporter": "python",
   "pygments_lexer": "ipython3",
   "version": "3.10.13"
  },
  "orig_nbformat": 4
 },
 "nbformat": 4,
 "nbformat_minor": 2
}
